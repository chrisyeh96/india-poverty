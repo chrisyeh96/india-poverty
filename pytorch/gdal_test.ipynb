{
 "cells": [
  {
   "cell_type": "code",
   "execution_count": 1,
   "metadata": {},
   "outputs": [],
   "source": [
    "from __future__ import print_function, division\n",
    "\n",
    "from PIL import Image\n",
    "\n",
    "import torch\n",
    "import torch.nn as nn\n",
    "import torch.optim as optim\n",
    "# from torch.optim import lr_scheduler\n",
    "from torch.optim import Adam\n",
    "from torch.autograd import Variable\n",
    "import numpy as np\n",
    "import torchvision\n",
    "from torchvision import datasets, models, transforms\n",
    "from load_dataset import BangladeshDataset\n",
    "from utils import torch_to_im_show\n",
    "import matplotlib.pyplot as plt\n",
    "import time\n",
    "import os\n",
    "import gdal\n",
    "\n",
    "plt.ion()   # interactive mode\n",
    "%matplotlib inline"
   ]
  },
  {
   "cell_type": "code",
   "execution_count": 2,
   "metadata": {},
   "outputs": [],
   "source": [
    "def load_bangladesh_2015_tiff(hhid, prefix=\"s1\", imgtype=\"vis\", quiet=False):\n",
    "    \"\"\"\n",
    "    hhid:    household index as float [pull from bangladesh_2015 csv]\n",
    "    prefix:  either \"s1\" or \"l8\"\n",
    "    imgtype: either \"vis\" or \"multiband\"\n",
    "    \"\"\"\n",
    "    #source_tiff = \"/mnt/staff-bucket/{}_median_bangladesh_{}_500x500_{:.1f}.tif\".format(prefix, imgtype, hhid)\n",
    "    source_tiff = \"/mnt/mounted_bucket/{}_median_bangladesh_{}_500x500_{:.1f}.tif\".format(prefix, imgtype, hhid)\n",
    "    print(source_tiff)\n",
    "    if not quiet:\n",
    "        print(\"Loading {}...\".format(source_tiff))\n",
    "    gdal_tif = gdal.Open(source_tiff)\n",
    "    if gdal_tif is None:\n",
    "        return None\n",
    "    return gdal_tif.ReadAsArray().astype(\"uint8\")"
   ]
  },
  {
   "cell_type": "code",
   "execution_count": 3,
   "metadata": {},
   "outputs": [],
   "source": [
    "hhid = 1000.0\n",
    "prefix = \"l8\"\n",
    "imgtype = \"vis\""
   ]
  },
  {
   "cell_type": "code",
   "execution_count": 4,
   "metadata": {},
   "outputs": [
    {
     "name": "stdout",
     "output_type": "stream",
     "text": [
      "/mnt/mounted_bucket/l8_median_bangladesh_vis_500x500_1000.0.tif\n",
      "Loading /mnt/mounted_bucket/l8_median_bangladesh_vis_500x500_1000.0.tif...\n",
      "False\n"
     ]
    }
   ],
   "source": [
    "img = load_bangladesh_2015_tiff(hhid, prefix, imgtype)\n",
    "print(img is None)"
   ]
  },
  {
   "cell_type": "code",
   "execution_count": null,
   "metadata": {},
   "outputs": [],
   "source": []
  }
 ],
 "metadata": {
  "kernelspec": {
   "display_name": "Python 2",
   "language": "python",
   "name": "python2"
  },
  "language_info": {
   "codemirror_mode": {
    "name": "ipython",
    "version": 2
   },
   "file_extension": ".py",
   "mimetype": "text/x-python",
   "name": "python",
   "nbconvert_exporter": "python",
   "pygments_lexer": "ipython2",
   "version": "2.7.12"
  }
 },
 "nbformat": 4,
 "nbformat_minor": 2
}
